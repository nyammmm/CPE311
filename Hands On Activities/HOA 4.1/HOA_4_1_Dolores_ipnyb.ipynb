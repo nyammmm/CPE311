{
  "nbformat": 4,
  "nbformat_minor": 0,
  "metadata": {
    "colab": {
      "provenance": [],
      "authorship_tag": "ABX9TyNbhSHDo7yUnUOpkZ5Zjq1n",
      "include_colab_link": true
    },
    "kernelspec": {
      "name": "python3",
      "display_name": "Python 3"
    },
    "language_info": {
      "name": "python"
    }
  },
  "cells": [
    {
      "cell_type": "markdown",
      "metadata": {
        "id": "view-in-github",
        "colab_type": "text"
      },
      "source": [
        "<a href=\"https://colab.research.google.com/github/nyammmm/CPE311/blob/main/HOA_4_1_Dolores_ipnyb.ipynb\" target=\"_parent\"><img src=\"https://colab.research.google.com/assets/colab-badge.svg\" alt=\"Open In Colab\"/></a>"
      ]
    },
    {
      "cell_type": "code",
      "execution_count": 3,
      "metadata": {
        "colab": {
          "base_uri": "https://localhost:8080/"
        },
        "id": "QwVsxWq4U1Ck",
        "outputId": "bcbbb1ee-7233-46b9-d20d-35da27514208"
      },
      "outputs": [
        {
          "output_type": "stream",
          "name": "stdout",
          "text": [
            "Enter number of disks: 3\n",
            "Rod1: [D1] [D2] [D3] \n",
            "Rod2: \n",
            "Rod3: \n",
            "moved disk {n} to rod {src} from rod {dst}\n",
            "Rod1: [D1] [D2] \n",
            "Rod2: \n",
            "Rod3: [D1] \n",
            "moved disk {n} to rod {src} from rod {dst}\n",
            "Rod1: [D1] \n",
            "Rod2: [D2] \n",
            "Rod3: [D1] \n",
            "moved disk {n} to rod {src} from rod {dst}\n",
            "Rod1: [D1] \n",
            "Rod2: [D2] [D1] \n",
            "Rod3: \n",
            "moved disk {n} to rod {src} from rod {dst}\n",
            "Rod1: \n",
            "Rod2: [D2] [D1] \n",
            "Rod3: [D3] \n",
            "moved disk {n} to rod {src} from rod {dst}\n",
            "Rod1: [D1] \n",
            "Rod2: [D2] \n",
            "Rod3: [D3] \n",
            "moved disk {n} to rod {src} from rod {dst}\n",
            "Rod1: [D1] \n",
            "Rod2: \n",
            "Rod3: [D3] [D2] \n",
            "moved disk {n} to rod {src} from rod {dst}\n",
            "Rod1: \n",
            "Rod2: \n",
            "Rod3: [D3] [D2] [D1] \n"
          ]
        }
      ],
      "source": [
        "def showrods(rods): #function for visualization of the disks in rods\n",
        "  rodnum = 1\n",
        "  for rod in rods:#for loop to print each rods in the list rods\n",
        "    print(f\"Rod{rodnum}: \", end=\"\")\n",
        "    rodnum += 1\n",
        "    for disk in rod:#for loop to print each disk in the each rod\n",
        "      print(f\"[D{disk}] \", end=\"\")\n",
        "    print()\n",
        "\n",
        "def movedisks(n, src, dst, rods):#function for moving disks in the lists\n",
        "  showrods(rods)\n",
        "  print(\"moved disk {n} to rod {src} from rod {dst}\")\n",
        "  rods[src-1].pop()\n",
        "  rods[dst-1].append(n)\n",
        "\n",
        "def TOH(n, src, dst, aux, rods):#recursive function for the tower of hanoi\n",
        "  if (n==1):#base case\n",
        "    movedisks(n, src, dst, rods)\n",
        "    return\n",
        "  else: #recurse case\n",
        "    TOH(n-1, src, aux, dst, rods)\n",
        "    movedisks(n, src, dst, rods)\n",
        "    TOH(n-1, aux, dst, src, rods)\n",
        "\n",
        "src = 1\n",
        "aux = 2\n",
        "dst = 3\n",
        "n = int(input(\"Enter number of disks: \"))\n",
        "rods = [list(range(1,n+1))[::1], [], []]#initialization of rods\n",
        "TOH(n, src, dst, aux, rods)\n",
        "showrods(rods)\n"
      ]
    },
    {
      "cell_type": "markdown",
      "source": [
        "OBSERVATION:\n",
        "- it is easy to use the recursive function in this situation as it only needs one function and needed only run once unlike the iteration."
      ],
      "metadata": {
        "id": "sqDv4kMWbMGd"
      }
    }
  ]
}