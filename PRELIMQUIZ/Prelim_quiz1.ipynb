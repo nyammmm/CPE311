{
  "nbformat": 4,
  "nbformat_minor": 0,
  "metadata": {
    "colab": {
      "provenance": [],
      "authorship_tag": "ABX9TyNGri6rYjQcSLZrBJTan6vt",
      "include_colab_link": true
    },
    "kernelspec": {
      "name": "python3",
      "display_name": "Python 3"
    },
    "language_info": {
      "name": "python"
    }
  },
  "cells": [
    {
      "cell_type": "markdown",
      "metadata": {
        "id": "view-in-github",
        "colab_type": "text"
      },
      "source": [
        "<a href=\"https://colab.research.google.com/github/nyammmm/CPE311/blob/main/PRELIMQUIZ/Prelim_quiz1.ipynb\" target=\"_parent\"><img src=\"https://colab.research.google.com/assets/colab-badge.svg\" alt=\"Open In Colab\"/></a>"
      ]
    },
    {
      "cell_type": "code",
      "execution_count": 24,
      "metadata": {
        "id": "fmUsNOUwBuf6"
      },
      "outputs": [],
      "source": [
        "def maxval(arr, n):\n",
        "  arrc = [];\n",
        "  if n == 1:\n",
        "    return arr[0];\n",
        "  else:\n",
        "    for i in arr:\n",
        "      if(i+1)>n:\n",
        "          break;\n",
        "      if (arr[i]>arr[i+1]):\n",
        "        arrc.append(arr[i]);\n",
        "  return arrc;\n",
        "\n",
        "\n",
        "arr = [2,4,6,8,10,1,3,5,7,9];\n",
        "n = 10;\n",
        "maxval(arr, n);\n",
        "\n"
      ]
    }
  ]
}